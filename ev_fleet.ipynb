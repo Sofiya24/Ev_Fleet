{
 "cells": [
  {
   "cell_type": "code",
   "execution_count": null,
   "metadata": {
    "colab": {
     "base_uri": "https://localhost:8080/"
    },
    "id": "X5yBUxKzU8cD",
    "outputId": "0a2a7f6b-1066-4b97-dea0-4a3fedbf4781"
   },
   "outputs": [
    {
     "name": "stdout",
     "output_type": "stream",
     "text": [
      "Collecting faker\n",
      "  Downloading Faker-30.8.2-py3-none-any.whl.metadata (15 kB)\n",
      "Requirement already satisfied: python-dateutil>=2.4 in /usr/local/lib/python3.10/dist-packages (from faker) (2.8.2)\n",
      "Requirement already satisfied: typing-extensions in /usr/local/lib/python3.10/dist-packages (from faker) (4.12.2)\n",
      "Requirement already satisfied: six>=1.5 in /usr/local/lib/python3.10/dist-packages (from python-dateutil>=2.4->faker) (1.16.0)\n",
      "Downloading Faker-30.8.2-py3-none-any.whl (1.8 MB)\n",
      "\u001b[?25l   \u001b[90m━━━━━━━━━━━━━━━━━━━━━━━━━━━━━━━━━━━━━━━━\u001b[0m \u001b[32m0.0/1.8 MB\u001b[0m \u001b[31m?\u001b[0m eta \u001b[36m-:--:--\u001b[0m\r\u001b[2K   \u001b[91m━━━━━━━━━━━━━━━━━━━━━━━━━━━━━━━━━━━━━━━\u001b[0m\u001b[91m╸\u001b[0m \u001b[32m1.8/1.8 MB\u001b[0m \u001b[31m128.4 MB/s\u001b[0m eta \u001b[36m0:00:01\u001b[0m\r\u001b[2K   \u001b[90m━━━━━━━━━━━━━━━━━━━━━━━━━━━━━━━━━━━━━━━━\u001b[0m \u001b[32m1.8/1.8 MB\u001b[0m \u001b[31m50.2 MB/s\u001b[0m eta \u001b[36m0:00:00\u001b[0m\n",
      "\u001b[?25hInstalling collected packages: faker\n",
      "Successfully installed faker-30.8.2\n"
     ]
    }
   ],
   "source": [
    "pip install faker"
   ]
  },
  {
   "cell_type": "code",
   "execution_count": null,
   "metadata": {
    "colab": {
     "base_uri": "https://localhost:8080/",
     "height": 36
    },
    "id": "mdvt7LVpU0E0",
    "outputId": "741e0547-d7df-4fc8-9e71-eabc9d6a6125"
   },
   "outputs": [
    {
     "data": {
      "application/vnd.google.colaboratory.intrinsic+json": {
       "type": "string"
      },
      "text/plain": [
       "'/content/synthetic_ev_fleet_dataset.csv'"
      ]
     },
     "execution_count": 9,
     "metadata": {},
     "output_type": "execute_result"
    }
   ],
   "source": [
    "import pandas as pd\n",
    "import random\n",
    "from faker import Faker\n",
    "import numpy as np\n",
    "\n",
    "# Initialize Faker\n",
    "fake = Faker()\n",
    "\n",
    "# Define the number of records\n",
    "num_records = 100000\n",
    "\n",
    "# Generate synthetic data\n",
    "data = {\n",
    "    \"Vehicle ID\": [f\"EV{str(i).zfill(4)}\" for i in range(1, num_records + 1)],\n",
    "    \"Driver ID\": [f\"DR{str(i).zfill(4)}\" for i in range(1, num_records + 1)],\n",
    "    \"Maintenance Cost ($)\": [round(random.uniform(100, 2000), 2) for _ in range(num_records)],\n",
    "    \"Vehicle Status\": [random.choice([\"Active\", \"Under Maintenance\", \"Inactive\"]) for _ in range(num_records)],\n",
    "    \"Battery Capacity (kWh)\": [random.randint(50, 150) for _ in range(num_records)],\n",
    "    \"Pincode\": [fake.postcode() for _ in range(num_records)],\n",
    "    \"Top Speed (km/h)\": [random.randint(100, 200) for _ in range(num_records)],\n",
    "    \"Electric Range (km)\": [random.randint(150, 500) for _ in range(num_records)],\n",
    "    \"Fast Charge Speed (kW)\": [random.randint(50, 150) for _ in range(num_records)],\n",
    "    \"Date\": [fake.date_this_year() for _ in range(num_records)],\n",
    "    \"Time\": [fake.time() for _ in range(num_records)],\n",
    "    \"Month\": [fake.month_name() for _ in range(num_records)],\n",
    "    \"Amount for Charging ($)\": [round(random.uniform(10, 50), 2) for _ in range(num_records)],\n",
    "    \"Location (Latitude)\": [round(fake.latitude(), 6) for _ in range(num_records)],\n",
    "    \"Location (Longitude)\": [round(fake.longitude(), 6) for _ in range(num_records)],\n",
    "    \"Speed (km/h)\": [random.randint(30, 120) for _ in range(num_records)],\n",
    "    \"Charging Status\": [random.choice([\"Charging\", \"Not Charging\", \"Fully charged\"]) for _ in range(num_records)],\n",
    "    \"Service History\": [random.choice([\"Completed\", \"Scheduled\", \"Due Soon\"]) for _ in range(num_records)],\n",
    "    \"Alerts/Warnings\": [random.choice([\"Battery Low\", \"Service Due\", \"No Alerts\"]) for _ in range(num_records)]\n",
    "}\n",
    "\n",
    "# Convert data to DataFrame\n",
    "df = pd.DataFrame(data)\n",
    "\n",
    "# Save DataFrame to CSV\n",
    "file_path = \"/content/synthetic_ev_fleet_dataset.csv\"\n",
    "df.to_csv(file_path, index=False)\n",
    "\n",
    "file_path\n"
   ]
  },
  {
   "cell_type": "code",
   "execution_count": null,
   "metadata": {
    "colab": {
     "base_uri": "https://localhost:8080/"
    },
    "id": "2cGJLC0sVU7i",
    "outputId": "346e2039-3231-4e13-a44c-85d863cf8dcf"
   },
   "outputs": [
    {
     "name": "stdout",
     "output_type": "stream",
     "text": [
      "  Vehicle ID Driver ID  Maintenance Cost ($)     Vehicle Status  \\\n",
      "0     EV0001    DR0001                850.04  Under Maintenance   \n",
      "1     EV0002    DR0002               1203.96             Active   \n",
      "2     EV0003    DR0003               1332.08           Inactive   \n",
      "3     EV0004    DR0004               1677.80  Under Maintenance   \n",
      "4     EV0005    DR0005               1984.78           Inactive   \n",
      "5     EV0006    DR0006                759.51  Under Maintenance   \n",
      "6     EV0007    DR0007                958.66  Under Maintenance   \n",
      "7     EV0008    DR0008                329.95  Under Maintenance   \n",
      "8     EV0009    DR0009               1336.16  Under Maintenance   \n",
      "9     EV0010    DR0010                331.52             Active   \n",
      "\n",
      "   Battery Capacity (kWh) Pincode  Top Speed (km/h)  Electric Range (km)  \\\n",
      "0                      91   22430               179                  465   \n",
      "1                     134   51111               124                  380   \n",
      "2                      60   99510               114                  202   \n",
      "3                      99   54924               200                  226   \n",
      "4                     140   21253               119                  371   \n",
      "5                      89   76804               182                  327   \n",
      "6                     119   10084               134                  384   \n",
      "7                     136   65540               158                  410   \n",
      "8                     125   54063               151                  482   \n",
      "9                     127   92127               156                  499   \n",
      "\n",
      "   Fast Charge Speed (kW)        Date      Time      Month  \\\n",
      "0                      76  2024-08-04  02:31:10    January   \n",
      "1                     134  2024-06-18  21:22:18       July   \n",
      "2                     124  2024-03-17  06:34:45  September   \n",
      "3                     110  2024-01-17  05:14:42       July   \n",
      "4                      95  2024-08-21  02:44:03       June   \n",
      "5                      87  2024-03-21  00:14:43   November   \n",
      "6                      88  2024-05-02  18:27:03      April   \n",
      "7                     111  2024-08-01  01:13:09       June   \n",
      "8                     149  2024-06-03  07:45:10   February   \n",
      "9                      91  2024-10-15  00:06:51  September   \n",
      "\n",
      "   Amount for Charging ($) Location (Latitude) Location (Longitude)  \\\n",
      "0                    42.28          -82.784562           -77.576400   \n",
      "1                    25.39          -50.615364           -65.077064   \n",
      "2                    45.59          -32.560887          -127.060568   \n",
      "3                    29.46          -77.931326          -141.330226   \n",
      "4                    29.52           29.727348           111.999186   \n",
      "5                    29.84          -73.834787          -146.551410   \n",
      "6                    44.08           78.545990          -175.165181   \n",
      "7                    20.92          -46.443700           -89.660641   \n",
      "8                    37.79           68.131054            93.200751   \n",
      "9                    11.74           41.860014           120.314152   \n",
      "\n",
      "   Speed (km/h) Charging Status Service History Alerts/Warnings  \n",
      "0            60        Charging        Due Soon     Service Due  \n",
      "1            58        Charging       Completed     Battery Low  \n",
      "2            74        Charging        Due Soon       No Alerts  \n",
      "3            69        Charging       Scheduled     Service Due  \n",
      "4            46   Fully charged        Due Soon     Battery Low  \n",
      "5           100    Not Charging       Scheduled     Service Due  \n",
      "6           113   Fully charged       Completed     Service Due  \n",
      "7            43   Fully charged       Scheduled     Service Due  \n",
      "8            44   Fully charged       Completed       No Alerts  \n",
      "9            62    Not Charging       Completed       No Alerts  \n"
     ]
    }
   ],
   "source": [
    "print(df.head(10))"
   ]
  },
  {
   "cell_type": "code",
   "execution_count": null,
   "metadata": {
    "colab": {
     "base_uri": "https://localhost:8080/"
    },
    "id": "A8qGJaw6WFhY",
    "outputId": "8632997c-1195-4dec-e093-f83d2e137f6e"
   },
   "outputs": [
    {
     "name": "stdout",
     "output_type": "stream",
     "text": [
      "Number of rows in the dataset: 100000\n"
     ]
    }
   ],
   "source": [
    "# Print the number of rows in the dataset\n",
    "num_rows = df.shape[0]\n",
    "print(\"Number of rows in the dataset:\", num_rows)"
   ]
  }
 ],
 "metadata": {
  "colab": {
   "provenance": []
  },
  "kernelspec": {
   "display_name": "Python 3",
   "name": "python3"
  },
  "language_info": {
   "name": "python",
   "version": "3.12.4"
  }
 },
 "nbformat": 4,
 "nbformat_minor": 0
}
